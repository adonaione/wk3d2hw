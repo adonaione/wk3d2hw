{
 "cells": [
  {
   "cell_type": "markdown",
   "metadata": {},
   "source": [
    "#### Exercise 1 - Class Inheritance"
   ]
  },
  {
   "cell_type": "code",
   "execution_count": 53,
   "metadata": {},
   "outputs": [],
   "source": [
    "# Write the Employee Parent Class Here\n",
    "class Employee:\n",
    "    def __init__(self, first, last, title, salary):\n",
    "        self.first_name = first.title()\n",
    "        self.last_name = last.title()\n",
    "        self.title = title\n",
    "        self.email = first[0].lower() + last.lower() + '@email.com' \n",
    "        self.salary = salary\n",
    "        \n",
    "    def __str__(self):\n",
    "        return f'{self.first_name} {self.last_name}'\n",
    "    \n",
    "    def mo_money(self, money):\n",
    "        self.money = money\n",
    "        new_sal = self.salary + money \n",
    "        return f'{self.first_name} {self.last_name} is now making ${new_sal} a year'\n",
    "\n",
    "\n",
    "        \n",
    "\n",
    "\n",
    "    \n",
    "    \n",
    "\n",
    "    \n"
   ]
  },
  {
   "cell_type": "markdown",
   "metadata": {},
   "source": [
    "Create two more classes that inherit from the Employee class. One for Sales and one for Development. Both of these classes will have the same attributes as the Employee.<br>\n",
    "- For the Sales employees, add a phone number attribute on instantiation using the super method. \n",
    "- Create a method on the Sales class that will \"Send a Follow Up Email\". It should take in a customer name and \"send\" aka print a formatted email \"Dear *customer*, Thank you for your interest in our product. Please let me know if you have any questions. My email is *email* or my phone number is *phone number*. Thanks, *full name*\"\n",
    "- Create a method on the Development class called code that will print out \"*full name* is writing code\"."
   ]
  },
  {
   "cell_type": "code",
   "execution_count": 54,
   "metadata": {},
   "outputs": [],
   "source": [
    "# Write the Sales child Class Here\n",
    "class Sales(Employee):\n",
    "    def __init__(self, first, last, title, salary, phone):\n",
    "        super().__init__(first, last, title, salary)\n",
    "        self.phone = phone\n",
    "\n",
    "    def send_email(self, customer):\n",
    "        self.customer = customer\n",
    "        email = f'''\n",
    "            Dear {customer.title()}, \n",
    "            \n",
    "            Thank you for your interest in our product. Please let me know if you have any questions. My email is {self.email} or my phone number is {self.phone}. \n",
    "            \n",
    "            Thanks, \n",
    "            {self}\n",
    "            '''\n",
    "        print(email)\n",
    "\n",
    "\n"
   ]
  },
  {
   "cell_type": "code",
   "execution_count": 55,
   "metadata": {},
   "outputs": [],
   "source": [
    "# Write the Development child Class Here\n",
    "\n",
    "class Dev(Employee):\n",
    "    def __init__(self, first, last, title, salary):\n",
    "        super().__init__(first, last, title, salary)\n",
    "        \n",
    "\n",
    "    def code(self):\n",
    "        print(f\"{self.first_name} {self.last_name} is writing code.\")\n"
   ]
  },
  {
   "cell_type": "markdown",
   "metadata": {},
   "source": [
    "- Create an instance of a Sales Employee with a salary of $50,000.\n",
    "- Send follow up emails to \"Mike O'Neil\" and \"Hannah Stern\"\n",
    "- Give the employee a raise and print the salary"
   ]
  },
  {
   "cell_type": "code",
   "execution_count": 56,
   "metadata": {},
   "outputs": [
    {
     "name": "stdout",
     "output_type": "stream",
     "text": [
      "Mark Mulligan\n"
     ]
    }
   ],
   "source": [
    "# Create the instance\n",
    "Employee1 = Sales('Mark', 'Mulligan', 'Sales', 50000, '505-555-5555')\n",
    "print(Employee1)\n",
    "\n"
   ]
  },
  {
   "cell_type": "code",
   "execution_count": 57,
   "metadata": {},
   "outputs": [
    {
     "name": "stdout",
     "output_type": "stream",
     "text": [
      "\n",
      "            Dear Mike, \n",
      "            \n",
      "            Thank you for your interest in our product. Please let me know if you have any questions. My email is mmulligan@email.com or my phone number is 505-555-5555. \n",
      "            \n",
      "            Thanks, \n",
      "            Mark Mulligan\n",
      "            \n",
      "None\n"
     ]
    }
   ],
   "source": [
    "# Send follow up to Mike\n",
    "mike_email = Employee1.send_email('Mike')\n",
    "print(mike_email)"
   ]
  },
  {
   "cell_type": "code",
   "execution_count": 58,
   "metadata": {},
   "outputs": [
    {
     "name": "stdout",
     "output_type": "stream",
     "text": [
      "\n",
      "            Dear Hannah, \n",
      "            \n",
      "            Thank you for your interest in our product. Please let me know if you have any questions. My email is mmulligan@email.com or my phone number is 505-555-5555. \n",
      "            \n",
      "            Thanks, \n",
      "            Mark Mulligan\n",
      "            \n",
      "None\n"
     ]
    }
   ],
   "source": [
    "# Send follow up to Hannah\n",
    "hannah = Employee1.send_email(\"Hannah\")\n",
    "print(hannah)"
   ]
  },
  {
   "cell_type": "code",
   "execution_count": 59,
   "metadata": {},
   "outputs": [
    {
     "data": {
      "text/plain": [
       "'Mark Mulligan is now making $70000 a year'"
      ]
     },
     "execution_count": 59,
     "metadata": {},
     "output_type": "execute_result"
    }
   ],
   "source": [
    "# Give the sales employee a raise\n",
    "Employee1.mo_money(20000)"
   ]
  },
  {
   "cell_type": "markdown",
   "metadata": {},
   "source": [
    "- Create an instance of a Development Employee with a salary of $100,000\n",
    "- Write some code with this employee\n",
    "- Give the employee a raise and print the salary"
   ]
  },
  {
   "cell_type": "code",
   "execution_count": 60,
   "metadata": {},
   "outputs": [
    {
     "name": "stdout",
     "output_type": "stream",
     "text": [
      "Adonai Romero\n"
     ]
    }
   ],
   "source": [
    "# Create the instance\n",
    "devemp = Dev('Adonai', 'Romero', 'Jr.Developer', 100000)\n",
    "print(devemp)"
   ]
  },
  {
   "cell_type": "code",
   "execution_count": 61,
   "metadata": {},
   "outputs": [
    {
     "name": "stdout",
     "output_type": "stream",
     "text": [
      "Adonai Romero is writing code.\n"
     ]
    }
   ],
   "source": [
    "# Write some code (call code method)\n",
    "devemp.code()"
   ]
  },
  {
   "cell_type": "code",
   "execution_count": 66,
   "metadata": {},
   "outputs": [
    {
     "data": {
      "text/plain": [
       "'Adonai Romero is now making $238900 a year'"
      ]
     },
     "execution_count": 66,
     "metadata": {},
     "output_type": "execute_result"
    }
   ],
   "source": [
    "# Give the dev employee a raise\n",
    "devemp.mo_money(138900)"
   ]
  },
  {
   "cell_type": "markdown",
   "metadata": {},
   "source": [
    "#### Exercise 2 - Importing Modules"
   ]
  },
  {
   "cell_type": "markdown",
   "metadata": {},
   "source": [
    "In VS Code, create a module titled `geometry` and add two functions in there. One that will calculate the area of a circle given a radius. The second will find the hypotenuse of a right angle given the two sides. Import the module or the functions from the module and use it to find the answers to the below questions"
   ]
  },
  {
   "cell_type": "code",
   "execution_count": 63,
   "metadata": {},
   "outputs": [],
   "source": [
    "import geometry\n"
   ]
  },
  {
   "cell_type": "markdown",
   "metadata": {},
   "source": [
    "What is the area of a circle with a radius of 7cm?"
   ]
  },
  {
   "cell_type": "code",
   "execution_count": 64,
   "metadata": {},
   "outputs": [
    {
     "name": "stdout",
     "output_type": "stream",
     "text": [
      "483.6104144287361\n"
     ]
    }
   ],
   "source": [
    "# ~153.94\n",
    "geometry.area_of_cir(7)"
   ]
  },
  {
   "cell_type": "markdown",
   "metadata": {},
   "source": [
    "What is the hypotenuse of a right angle with sides of 3in and 4in?"
   ]
  },
  {
   "cell_type": "code",
   "execution_count": 65,
   "metadata": {},
   "outputs": [
    {
     "name": "stdout",
     "output_type": "stream",
     "text": [
      "5.0\n"
     ]
    }
   ],
   "source": [
    "# 5 inches\n",
    "geometry.hypotenuse(3, 4)"
   ]
  }
 ],
 "metadata": {
  "kernelspec": {
   "display_name": "Python 3 (ipykernel)",
   "language": "python",
   "name": "python3"
  },
  "language_info": {
   "codemirror_mode": {
    "name": "ipython",
    "version": 3
   },
   "file_extension": ".py",
   "mimetype": "text/x-python",
   "name": "python",
   "nbconvert_exporter": "python",
   "pygments_lexer": "ipython3",
   "version": "3.11.7"
  }
 },
 "nbformat": 4,
 "nbformat_minor": 4
}
